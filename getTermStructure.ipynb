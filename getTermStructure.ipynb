{
 "metadata": {
  "language_info": {
   "codemirror_mode": {
    "name": "ipython",
    "version": 3
   },
   "file_extension": ".py",
   "mimetype": "text/x-python",
   "name": "python",
   "nbconvert_exporter": "python",
   "pygments_lexer": "ipython3",
   "version": "3.8.2-final"
  },
  "orig_nbformat": 2,
  "kernelspec": {
   "name": "python3",
   "display_name": "Python 3.8.2 64-bit ('ml': conda)",
   "metadata": {
    "interpreter": {
     "hash": "7e725dad01597946935c73e754c2aa23c0b3504a8cf9d294e9c872ffb3f78e76"
    }
   }
  }
 },
 "nbformat": 4,
 "nbformat_minor": 2,
 "cells": [
  {
   "cell_type": "code",
   "execution_count": 1,
   "metadata": {},
   "outputs": [],
   "source": [
    "import pandas as pd, numpy as np\n",
    "import os\n",
    "import matplotlib.pyplot as plt\n",
    "from datetime import timedelta,date\n",
    "from dateutil.parser import parse\n",
    "from ResearchML import *\n",
    "from mlfinlab.microstructural_features import *\n",
    "from mlfinlab.sample_weights import *\n",
    "\n",
    "workPath = \"/home/xetra/AlphaGoldmine/Data/\"\n",
    "future = \"CL\"\n",
    "# y = 2018\n",
    "\n",
    "contFuture = os.path.join(workPath, future.lower(), f\"{future}Cont\")\n",
    "contFutureMLOLD = os.path.join(workPath, future.lower(), f\"{future}ContML\")\n",
    "\n",
    "vbPath = os.path.join(workPath, future.lower(), f\"{future}ContVB\")\n",
    "contFutureLevelBucketsVB = os.path.join(workPath,future.lower(), f\"{future}ContLevelBuckets\")\n",
    "vpDir = os.path.join(workPath,future.lower(),\"VP\")\n",
    "\n",
    "plt.rcParams['figure.figsize'] = [12, 8]\n",
    "plt.rcParams['figure.dpi'] = 100\n",
    "\n",
    "\n",
    "snippedFrom = 2016\n"
   ]
  },
  {
   "cell_type": "code",
   "execution_count": 2,
   "metadata": {},
   "outputs": [],
   "source": [
    "monthMap = {\n",
    "    \"F\": 1,\n",
    "    \"G\": 2,\n",
    "    \"H\": 3,\n",
    "    \"J\": 4,\n",
    "    \"K\": 5,\n",
    "    \"M\": 6,\n",
    "    \"N\": 7,\n",
    "    \"Q\": 8,\n",
    "    \"U\": 9,\n",
    "    \"V\": 10,\n",
    "    \"X\": 11,\n",
    "    \"Z\": 12,\n",
    "}\n",
    "\n",
    "cols = {\n",
    "#     'Date' : \"date\",\n",
    "#     ' Time' : \"time\",\n",
    "    ' Open' : \"o\",\n",
    "    ' High' : \"h\",\n",
    "    ' Low' : \"l\",\n",
    "    ' Last' : \"c\",\n",
    "    ' Volume' : \"vol\",\n",
    "    ' # of Trades' : \"nrT\",\n",
    "    ' Bid Volume' : \"bidVol\",\n",
    "    ' Ask Volume' : \"askVol\",\n",
    "    'Date_ Time' : \"date\",\n",
    "    \"contract\": \"contract\"\n",
    "}"
   ]
  },
  {
   "cell_type": "code",
   "execution_count": 3,
   "metadata": {},
   "outputs": [],
   "source": [
    "fileNames = []\n",
    "for i in range(10, 21, 1):\n",
    "    for m in monthMap:\n",
    "        try: fileNames.append(os.path.join(workPath, future.lower(), f\"{future}{m}{i}.csv\"))\n",
    "        except(FileNotFoundError): continue"
   ]
  },
  {
   "cell_type": "code",
   "execution_count": 4,
   "metadata": {},
   "outputs": [],
   "source": [
    "def getDf(p):\n",
    "    s = f\"{future}{p[len(p)-7:-4]}\"\n",
    "    df = pd.read_csv(p, parse_dates=[[\"Date\", \" Time\"]]).rename(columns={\"Date_ Time\":\"date\"})\n",
    "    return df.drop_duplicates(subset=[\"date\"], keep=\"last\").set_index(\"date\")[\" Last\"].rename(s)\n",
    "\n",
    "with mp.Pool(processes=mp.cpu_count()-1) as p:\n",
    "    res = p.map(getDf, fileNames)\n",
    "    df = pd.concat(res,1)"
   ]
  },
  {
   "cell_type": "code",
   "execution_count": 5,
   "metadata": {},
   "outputs": [],
   "source": [
    "from mpl_toolkits.mplot3d import Axes3D\n",
    "plt.rcParams['figure.figsize'] = [12, 8]\n",
    "plt.rcParams['figure.dpi'] = 100"
   ]
  },
  {
   "cell_type": "code",
   "execution_count": 6,
   "metadata": {},
   "outputs": [],
   "source": [
    "df=df.sort_index().reset_index()\n",
    "dt = df[\"date\"]\n",
    "df = df.drop(\"date\",1)"
   ]
  },
  {
   "cell_type": "code",
   "execution_count": 7,
   "metadata": {},
   "outputs": [],
   "source": [
    "# X,Y = np.meshgrid(np.arange(len(df.columns)),df.index)\n",
    "# Z = df\n",
    "# fig = plt.figure()\n",
    "# ax = fig.add_subplot(111, projection='3d')\n",
    "# ax.plot_surface(X, Y, Z)"
   ]
  },
  {
   "cell_type": "code",
   "execution_count": 8,
   "metadata": {},
   "outputs": [
    {
     "output_type": "execute_result",
     "data": {
      "text/plain": [
       "Index(['CLF10', 'CLG10', 'CLH10', 'CLJ10', 'CLK10', 'CLM10', 'CLN10', 'CLQ10',\n",
       "       'CLU10', 'CLV10',\n",
       "       ...\n",
       "       'CLH20', 'CLJ20', 'CLK20', 'CLM20', 'CLN20', 'CLQ20', 'CLU20', 'CLV20',\n",
       "       'CLX20', 'CLZ20'],\n",
       "      dtype='object', length=132)"
      ]
     },
     "metadata": {},
     "execution_count": 8
    }
   ],
   "source": [
    "df.columns"
   ]
  },
  {
   "cell_type": "code",
   "execution_count": 9,
   "metadata": {},
   "outputs": [],
   "source": [
    "df[\"date\"] = dt"
   ]
  },
  {
   "cell_type": "code",
   "execution_count": 10,
   "metadata": {},
   "outputs": [],
   "source": [
    "df=df.set_index(\"date\")"
   ]
  },
  {
   "cell_type": "code",
   "execution_count": 11,
   "metadata": {},
   "outputs": [],
   "source": [
    "for c in list(df):\n",
    "    df.loc[df[c].first_valid_index():df[c].last_valid_index(),c].fillna(method=\"ffill\", inplace=True)"
   ]
  },
  {
   "cell_type": "code",
   "execution_count": 12,
   "metadata": {},
   "outputs": [],
   "source": [
    "cAsDate={k:v for k,v in [f for f in zip([f for f in df.columns],[date(2000+int(c[3:]),monthMap[c[2]],20) for c in df.columns])]}"
   ]
  },
  {
   "cell_type": "code",
   "execution_count": 20,
   "metadata": {},
   "outputs": [
    {
     "output_type": "stream",
     "name": "stdout",
     "text": [
      "625.0\n"
     ]
    }
   ],
   "source": [
    "for i,row in df.iterrows():\n",
    "    r=row.dropna()\n",
    "    tau=abs(cAsDate[\"CLF10\"]-r.name.date())/timedelta(days=1)\n",
    "    print(tau)\n",
    "    break"
   ]
  },
  {
   "cell_type": "code",
   "execution_count": null,
   "metadata": {},
   "outputs": [],
   "source": [
    "n = \"CLG11\"\n",
    "m=n[2]\n",
    "y=int(n[3:])\n",
    "d = 20"
   ]
  },
  {
   "cell_type": "code",
   "execution_count": null,
   "metadata": {},
   "outputs": [],
   "source": [
    "y"
   ]
  },
  {
   "cell_type": "code",
   "execution_count": null,
   "metadata": {},
   "outputs": [],
   "source": [
    "date(2000+y,monthMap[m],d)"
   ]
  },
  {
   "cell_type": "code",
   "execution_count": null,
   "metadata": {},
   "outputs": [],
   "source": [
    "df.iloc[200000].dropna()"
   ]
  }
 ]
}